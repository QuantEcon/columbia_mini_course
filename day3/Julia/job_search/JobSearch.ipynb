{
 "cells": [
  {
   "cell_type": "code",
   "execution_count": null,
   "metadata": {
    "collapsed": true
   },
   "outputs": [],
   "source": [
    "mutable struct JS{T <: Float64, A <: Int64}\n",
    "    μ::T \n",
    "    s::T\n",
    "    d::T\n",
    "    ρ::T\n",
    "    σ::T\n",
    "    β::T\n",
    "    c::A\n",
    "    mc_size::A\n",
    "    grid_size::A\n",
    "    z_mean::T\n",
    "    z_sd::T\n",
    "    k::A\n",
    "    a::T\n",
    "    b::T\n",
    "    z_grid::Vector{T}\n",
    "    e_draws::Array{T,2}\n",
    "    f_star::Vector{T}\n",
    "end\n",
    "\n",
    "function JS(μ=0.0, \n",
    "            s=1.0, \n",
    "            d=0.0, \n",
    "            ρ=0.9, \n",
    "            σ=0.1, \n",
    "            β=0.98, \n",
    "            c=5,\n",
    "            mc_size=5000,\n",
    "            grid_size=200)\n",
    "    \n",
    "    z_mean = d / (1 - ρ)\n",
    "    z_sd = sqrt(σ / (1 - ρ^2))\n",
    "    k = 3 \n",
    "    a, b = z_mean - k * z_sd, z_mean + k * z_sd\n",
    "    z_grid = collect(linspace(a, b, grid_size))\n",
    "\n",
    "    e_draws = randn(2, mc_size)\n",
    "\n",
    "\n",
    "    f_star = zeros(0)\n",
    "\n",
    "    JS(μ, s ,d, ρ, σ, β,c,  mc_size, grid_size, z_mean, z_sd, k,\n",
    "        a, b, z_grid, e_draws, f_star)   \n",
    "end\n",
    "\n",
    "\n"
   ]
  },
  {
   "cell_type": "code",
   "execution_count": null,
   "metadata": {
    "collapsed": true
   },
   "outputs": [],
   "source": [
    "self = JS()"
   ]
  },
  {
   "cell_type": "code",
   "execution_count": null,
   "metadata": {
    "collapsed": true
   },
   "outputs": [],
   "source": [
    "function pack_parameters(self::JS)\n",
    "    return  self.μ, self.s, self.d, self.ρ, self.σ, self.β, self.c\n",
    "end"
   ]
  },
  {
   "cell_type": "code",
   "execution_count": null,
   "metadata": {
    "collapsed": true
   },
   "outputs": [],
   "source": [
    "function compute_fixed_point!(self::JS; \n",
    "                             tol=1e-4, \n",
    "                             max_iter=1000, \n",
    "                             verbose= true,\n",
    "                             print_skip=25)\n",
    "    # Set initial condition\n",
    "    f_init = log(self.c) * ones(length(self.z_grid))\n",
    "\n",
    "    f_out = similar(self.z_grid)\n",
    "    # Set up loop\n",
    "    params = pack_parameters(self)\n",
    "    f_in = f_init\n",
    "    i = 0\n",
    "    error = tol + 1\n",
    "\n",
    "    while i < max_iter && error > tol\n",
    "        Q(f_in, f_out, params, self.z_grid, self.e_draws)\n",
    "        error = maximum(abs.(f_in - f_out))\n",
    "        i += 1\n",
    "\n",
    "        if i % print_skip == 0\n",
    "            println(\"Error at iteration\",i,\" is \", error)\n",
    "        end\n",
    "        f_in[:] = f_out\n",
    "        \n",
    "    end\n",
    "\n",
    "    if i == max_iter\n",
    "        print(\"Failed to converge!\")\n",
    "    end\n",
    "\n",
    "    if verbose && i < max_iter\n",
    "        print(\"\\nConverged in \", i,\" iterations.\")\n",
    "    end\n",
    "\n",
    "    self.f_star = f_out\n",
    "end"
   ]
  },
  {
   "cell_type": "code",
   "execution_count": 4,
   "metadata": {},
   "outputs": [
    {
     "data": {
      "text/plain": [
       "Q (generic function with 1 method)"
      ]
     },
     "execution_count": 4,
     "metadata": {},
     "output_type": "execute_result"
    }
   ],
   "source": [
    "function Q(f_in, f_out, params, z_grid, e_draws)\n",
    "\n",
    "    μ, s, d, ρ, σ, β, c = params\n",
    "    M = size(e_draws,2)\n",
    "   \n",
    "    # For every grid point\n",
    "    for i=1:length(z_grid)\n",
    "\n",
    "        z = z_grid[i]\n",
    "        # Compute expectation by MC\n",
    "        expectation = 0.0\n",
    "        for m=1:M\n",
    "            e1, e2 = e_draws[:, m]\n",
    "            z_next = d + ρ * z + σ * e1\n",
    "            go_val = interp1d(z_grid, f_in, z_next)\n",
    "\n",
    "\n",
    "            y_next = exp(μ + s * e2)                     # y' dra\n",
    "            w_next = exp(z_next) + y_next                # w' draw\n",
    "            stop_val = log(w_next) / (1 - β)             # u(w') / (1 - β)\n",
    "            expectation += max(stop_val, go_val)\n",
    "        end\n",
    "\n",
    "        expectation = expectation / M \n",
    "        f_out[i] = log(c) + β * expectation\n",
    "    end\n",
    "end\n",
    "\n",
    "\n"
   ]
  },
  {
   "cell_type": "code",
   "execution_count": null,
   "metadata": {
    "collapsed": true
   },
   "outputs": [],
   "source": []
  }
 ],
 "metadata": {
  "kernelspec": {
   "display_name": "Julia 0.6.0",
   "language": "julia",
   "name": "julia-0.6"
  },
  "language_info": {
   "file_extension": ".jl",
   "mimetype": "application/julia",
   "name": "julia",
   "version": "0.6.0"
  }
 },
 "nbformat": 4,
 "nbformat_minor": 2
}
