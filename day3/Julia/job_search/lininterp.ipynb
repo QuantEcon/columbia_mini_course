{
 "cells": [
  {
   "cell_type": "code",
   "execution_count": 9,
   "metadata": {},
   "outputs": [
    {
     "data": {
      "text/plain": [
       "interp1d_vectorized (generic function with 1 method)"
      ]
     },
     "execution_count": 9,
     "metadata": {},
     "output_type": "execute_result"
    }
   ],
   "source": [
    "\n",
    "function interp1d(grid, vals, x)\n",
    "\n",
    "    a, b, G = minimum(grid), maximum(grid), length(grid)\n",
    "\n",
    "    s = (x - a) / (b - a)\n",
    "\n",
    "    q_0 = max(min(trunc(Int,s * (G - 1)), (G - 2)), 0)\n",
    "    v_0 = vals[q_0]\n",
    "    v_1 = vals[q_0 + 1]\n",
    "\n",
    "    λ = s * (G - 1) - q_0\n",
    "\n",
    "    return (1 - λ) * v_0 + λ * v_1\n",
    "end\n",
    "\n",
    "function interp1d_vectorized(grid, vals, x_vec)\n",
    "    \n",
    "    out = similar(x_vec)\n",
    "\n",
    "    for (i, x) in enumerate(x_vec)\n",
    "        out[i] = interp1d(grid, vals, x)\n",
    "    end\n",
    "    \n",
    "    return out\n",
    "end\n",
    "\n"
   ]
  }
 ],
 "metadata": {
  "kernelspec": {
   "display_name": "Julia 0.6.0",
   "language": "julia",
   "name": "julia-0.6"
  },
  "language_info": {
   "file_extension": ".jl",
   "mimetype": "application/julia",
   "name": "julia",
   "version": "0.6.0"
  }
 },
 "nbformat": 4,
 "nbformat_minor": 2
}
