{
 "cells": [
  {
   "cell_type": "code",
   "execution_count": 1,
   "metadata": {},
   "outputs": [],
   "source": [
    "using QuantEcon\n",
    "using Distributions\n"
   ]
  },
  {
   "cell_type": "code",
   "execution_count": 2,
   "metadata": {},
   "outputs": [
    {
     "data": {
      "text/plain": [
       "SavingsProblem"
      ]
     },
     "execution_count": 2,
     "metadata": {},
     "output_type": "execute_result"
    }
   ],
   "source": [
    "mutable struct SavingsProblem\n",
    "\n",
    "    β::Float64 \n",
    "    γ::Float64 \n",
    "    ρ::Float64 \n",
    "    d::Float64 \n",
    "    σ::Float64 \n",
    "    r::Float64 \n",
    "    w::Float64 \n",
    "    z_grid_size::Int64\n",
    "    x_grid_size::Int64\n",
    "    x_grid_max::Int64\n",
    "    R::Float64\n",
    "    Q::Array{Float64,2}\n",
    "    z_grid::Vector{Float64}\n",
    "    x_grid::Vector{Float64}\n",
    "end\n",
    "    \n",
    "function SavingsProblem(β=0.96,\n",
    "                        γ=2.5,\n",
    "                        ρ=0.9,\n",
    "                        d=0.0,\n",
    "                        σ=0.1,\n",
    "                        r=0.04,\n",
    "                        w=1.0,\n",
    "                        z_grid_size=25,\n",
    "                        x_grid_size=200,\n",
    "                        x_grid_max=15)\n",
    "    \n",
    "    R = 1 + r\n",
    "    mc = rouwenhorst(z_grid_size, d, σ, ρ)\n",
    "    Q = mc.p\n",
    "    z_grid = exp.(mc.state_values)\n",
    "    x_grid = collect(linspace(0.0, x_grid_max, x_grid_size))\n",
    "    \n",
    "    SavingsProblem(β, γ, ρ, d, σ, r, w, z_grid_size, x_grid_size, x_grid_max, R, Q, z_grid, x_grid)\n",
    "    \n",
    "end \n",
    "\n",
    "\n"
   ]
  },
  {
   "cell_type": "code",
   "execution_count": 3,
   "metadata": {},
   "outputs": [
    {
     "data": {
      "text/plain": [
       "SavingsProblem(0.96, 2.5, 0.9, 0.0, 0.1, 0.04, 1.0, 25, 200, 15, 1.04, [5.96046e-8 1.43051e-6 … 1.43051e-6 5.96046e-8; 5.96046e-8 1.43051e-6 … 1.43051e-6 5.96046e-8; … ; 5.96046e-8 1.43051e-6 … 1.43051e-6 5.96046e-8; 5.96046e-8 1.43051e-6 … 1.43051e-6 5.96046e-8], [1.50697, 1.56977, 1.63518, 1.70332, 1.77429, 1.84823, 1.92524, 2.00546, 2.08903, 2.17608  …  2.78007, 2.89591, 3.01658, 3.14228, 3.27322, 3.40961, 3.55169, 3.69969, 3.85385, 4.01444], [0.0, 0.0753769, 0.150754, 0.226131, 0.301508, 0.376884, 0.452261, 0.527638, 0.603015, 0.678392  …  14.3216, 14.397, 14.4724, 14.5477, 14.6231, 14.6985, 14.7739, 14.8492, 14.9246, 15.0])"
      ]
     },
     "execution_count": 3,
     "metadata": {},
     "output_type": "execute_result"
    }
   ],
   "source": [
    "self = SavingsProblem()"
   ]
  },
  {
   "cell_type": "code",
   "execution_count": 4,
   "metadata": {},
   "outputs": [
    {
     "data": {
      "text/plain": [
       "pack_parameters (generic function with 1 method)"
      ]
     },
     "execution_count": 4,
     "metadata": {},
     "output_type": "execute_result"
    }
   ],
   "source": [
    "function pack_parameters(self::SavingsProblem)\n",
    "    return self.β, self.γ, self.R, self.w, self.Q, self.x_grid, self.z_grid\n",
    "end"
   ]
  },
  {
   "cell_type": "code",
   "execution_count": 5,
   "metadata": {},
   "outputs": [
    {
     "data": {
      "text/plain": [
       "u (generic function with 1 method)"
      ]
     },
     "execution_count": 5,
     "metadata": {},
     "output_type": "execute_result"
    }
   ],
   "source": [
    "function u(c, γ)\n",
    "    return (c + 1e-10)^(1 - γ) / (1 - γ)\n",
    "end"
   ]
  },
  {
   "cell_type": "code",
   "execution_count": 6,
   "metadata": {},
   "outputs": [
    {
     "data": {
      "text/plain": [
       "value_function_iteration (generic function with 5 methods)"
      ]
     },
     "execution_count": 6,
     "metadata": {},
     "output_type": "execute_result"
    }
   ],
   "source": [
    "function value_function_iteration(self::SavingsProblem,\n",
    "                             tol=1e-4, \n",
    "                             max_iter=1000, \n",
    "                             verbose=true,\n",
    "                             print_skip=25)\n",
    "    # Set initial condition, set up storage\n",
    "    v_init = ones(self.x_grid_size, self.z_grid_size)\n",
    "    v_out = similar(v_init)\n",
    "    π = similar(trunc.(Int, v_init))\n",
    "    # Set up loop\n",
    "    params = pack_parameters(self)\n",
    "    v_in = v_init\n",
    "    i = 0\n",
    "    error = tol + 1\n",
    "\n",
    "    while i < max_iter && error > tol\n",
    "        T(v_in, v_out, π, params)\n",
    "        error = maximum(abs.(v_in - v_out))\n",
    "        i += 1\n",
    "        if i % print_skip == 0\n",
    "            println(\"Error at iteration\", i, \" is \", error)\n",
    "        end\n",
    "        v_in[:] = v_out\n",
    "    end\n",
    "        \n",
    "\n",
    "    if i == max_iter \n",
    "        print(\"Failed to converge!\")\n",
    "    end\n",
    "\n",
    "    if verbose && i < max_iter\n",
    "        print(\"\\nConverged in \", i,\" iterations.\")\n",
    "    end\n",
    "\n",
    "    return v_out, π\n",
    "end\n",
    "\n"
   ]
  },
  {
   "cell_type": "code",
   "execution_count": 7,
   "metadata": {},
   "outputs": [
    {
     "data": {
      "text/plain": [
       "T (generic function with 1 method)"
      ]
     },
     "execution_count": 7,
     "metadata": {},
     "output_type": "execute_result"
    }
   ],
   "source": [
    "function T(v, v_out, π, params)\n",
    "    \n",
    "    \"\"\"\n",
    "    Given v, compute Tv and write it to v_out.\n",
    "\n",
    "    At the same time, compute the v-greedy policy and write it to π\n",
    "\n",
    "    \"\"\"\n",
    "    n, m = size(v)\n",
    "    β, γ, R, w, Q, x_grid, z_grid = params\n",
    "    k_star = 1\n",
    "    for j=1:m\n",
    "        z = z_grid[j]\n",
    "\n",
    "        for i=1:n\n",
    "    \n",
    "            x = x_grid[i]\n",
    "\n",
    "            # Cash in hand at start of period\n",
    "            y = R * x + w * z  \n",
    "            # A variable to store largest recorded value\n",
    "            max_so_far = - Inf\n",
    "            # Find largest x_grid index s.t. x' <= y\n",
    "            #idx = searchsortedfirst(x_grid, y)-1\n",
    "            idx = searchsortedlast(x_grid, y)\n",
    "            # Step through x' with 0 <= x' <= y, find max\n",
    "            for k=1:idx\n",
    "                x_next = x_grid[k]\n",
    "                val = u(y - x_next, γ) + β * sum(v[k, :] .* Q[j, :])\n",
    "\n",
    "                if val > max_so_far\n",
    "                    max_so_far = val\n",
    "                    k_star = k\n",
    "                end\n",
    "\n",
    "            end\n",
    "\n",
    "            π[i, j] = k_star \n",
    "\n",
    "            v_out[i, j] = max_so_far\n",
    "\n",
    "\n",
    "        end\n",
    "    end\n",
    "end\n",
    "      "
   ]
  },
  {
   "cell_type": "code",
   "execution_count": null,
   "metadata": {},
   "outputs": [],
   "source": []
  }
 ],
 "metadata": {
  "kernelspec": {
   "display_name": "Julia 0.6.0",
   "language": "julia",
   "name": "julia-0.6"
  },
  "language_info": {
   "file_extension": ".jl",
   "mimetype": "application/julia",
   "name": "julia",
   "version": "0.6.0"
  }
 },
 "nbformat": 4,
 "nbformat_minor": 2
}
